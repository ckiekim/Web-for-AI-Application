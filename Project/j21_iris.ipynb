{
 "cells": [
  {
   "cell_type": "markdown",
   "metadata": {},
   "source": [
    "# Iris 분류"
   ]
  },
  {
   "cell_type": "code",
   "execution_count": 1,
   "metadata": {},
   "outputs": [],
   "source": [
    "import numpy as np\n",
    "import pandas as pd\n",
    "import warnings\n",
    "warnings.filterwarnings('ignore')"
   ]
  },
  {
   "cell_type": "code",
   "execution_count": 2,
   "metadata": {},
   "outputs": [],
   "source": [
    "from sklearn.datasets import load_iris\n",
    "iris = load_iris()"
   ]
  },
  {
   "cell_type": "code",
   "execution_count": 3,
   "metadata": {},
   "outputs": [
    {
     "data": {
      "text/html": [
       "<div>\n",
       "<style scoped>\n",
       "    .dataframe tbody tr th:only-of-type {\n",
       "        vertical-align: middle;\n",
       "    }\n",
       "\n",
       "    .dataframe tbody tr th {\n",
       "        vertical-align: top;\n",
       "    }\n",
       "\n",
       "    .dataframe thead th {\n",
       "        text-align: right;\n",
       "    }\n",
       "</style>\n",
       "<table border=\"1\" class=\"dataframe\">\n",
       "  <thead>\n",
       "    <tr style=\"text-align: right;\">\n",
       "      <th></th>\n",
       "      <th>sepal length (cm)</th>\n",
       "      <th>sepal width (cm)</th>\n",
       "      <th>petal length (cm)</th>\n",
       "      <th>petal width (cm)</th>\n",
       "    </tr>\n",
       "  </thead>\n",
       "  <tbody>\n",
       "    <tr>\n",
       "      <th>0</th>\n",
       "      <td>5.1</td>\n",
       "      <td>3.5</td>\n",
       "      <td>1.4</td>\n",
       "      <td>0.2</td>\n",
       "    </tr>\n",
       "    <tr>\n",
       "      <th>1</th>\n",
       "      <td>4.9</td>\n",
       "      <td>3.0</td>\n",
       "      <td>1.4</td>\n",
       "      <td>0.2</td>\n",
       "    </tr>\n",
       "    <tr>\n",
       "      <th>2</th>\n",
       "      <td>4.7</td>\n",
       "      <td>3.2</td>\n",
       "      <td>1.3</td>\n",
       "      <td>0.2</td>\n",
       "    </tr>\n",
       "    <tr>\n",
       "      <th>3</th>\n",
       "      <td>4.6</td>\n",
       "      <td>3.1</td>\n",
       "      <td>1.5</td>\n",
       "      <td>0.2</td>\n",
       "    </tr>\n",
       "    <tr>\n",
       "      <th>4</th>\n",
       "      <td>5.0</td>\n",
       "      <td>3.6</td>\n",
       "      <td>1.4</td>\n",
       "      <td>0.2</td>\n",
       "    </tr>\n",
       "  </tbody>\n",
       "</table>\n",
       "</div>"
      ],
      "text/plain": [
       "   sepal length (cm)  sepal width (cm)  petal length (cm)  petal width (cm)\n",
       "0                5.1               3.5                1.4               0.2\n",
       "1                4.9               3.0                1.4               0.2\n",
       "2                4.7               3.2                1.3               0.2\n",
       "3                4.6               3.1                1.5               0.2\n",
       "4                5.0               3.6                1.4               0.2"
      ]
     },
     "execution_count": 3,
     "metadata": {},
     "output_type": "execute_result"
    }
   ],
   "source": [
    "# data, target, target_names, feature_names, DESCR\n",
    "data = iris.data\n",
    "label = iris.target\n",
    "columns = iris.feature_names\n",
    "df = pd.DataFrame(data, columns=columns)\n",
    "df.head()"
   ]
  },
  {
   "cell_type": "code",
   "execution_count": 4,
   "metadata": {},
   "outputs": [],
   "source": [
    "from sklearn.model_selection import train_test_split\n",
    "x_train, x_test, y_train, y_test = \\\n",
    "    train_test_split(data, label, test_size=0.2, \n",
    "                     shuffle=True, stratify=label, random_state=2019)"
   ]
  },
  {
   "cell_type": "markdown",
   "metadata": {},
   "source": [
    "### Logistic Regression"
   ]
  },
  {
   "cell_type": "markdown",
   "metadata": {},
   "source": [
    "- 모델 객체 생성"
   ]
  },
  {
   "cell_type": "code",
   "execution_count": 5,
   "metadata": {},
   "outputs": [],
   "source": [
    "from sklearn.linear_model import LogisticRegression\n",
    "lr = LogisticRegression(verbose=1)"
   ]
  },
  {
   "cell_type": "markdown",
   "metadata": {},
   "source": [
    "- 모델 학습"
   ]
  },
  {
   "cell_type": "code",
   "execution_count": 6,
   "metadata": {},
   "outputs": [
    {
     "name": "stderr",
     "output_type": "stream",
     "text": [
      "[Parallel(n_jobs=1)]: Using backend SequentialBackend with 1 concurrent workers.\n",
      "[Parallel(n_jobs=1)]: Done   1 out of   1 | elapsed:    0.0s finished\n"
     ]
    },
    {
     "data": {
      "text/plain": [
       "LogisticRegression(verbose=1)"
      ]
     },
     "execution_count": 6,
     "metadata": {},
     "output_type": "execute_result"
    }
   ],
   "source": [
    "lr.fit(x_train, y_train)"
   ]
  },
  {
   "cell_type": "markdown",
   "metadata": {},
   "source": [
    "- 학습한 결과를 저장"
   ]
  },
  {
   "cell_type": "code",
   "execution_count": 7,
   "metadata": {},
   "outputs": [
    {
     "data": {
      "text/plain": [
       "['model/iris_lr.pkl']"
      ]
     },
     "execution_count": 7,
     "metadata": {},
     "output_type": "execute_result"
    }
   ],
   "source": [
    "import joblib\n",
    "joblib.dump(lr, 'model/iris_lr.pkl')"
   ]
  },
  {
   "cell_type": "markdown",
   "metadata": {},
   "source": [
    "### Support Vector Machine"
   ]
  },
  {
   "cell_type": "code",
   "execution_count": 8,
   "metadata": {},
   "outputs": [],
   "source": [
    "from sklearn.svm import SVC\n",
    "svc = SVC()"
   ]
  },
  {
   "cell_type": "code",
   "execution_count": 9,
   "metadata": {},
   "outputs": [
    {
     "data": {
      "text/plain": [
       "SVC()"
      ]
     },
     "execution_count": 9,
     "metadata": {},
     "output_type": "execute_result"
    }
   ],
   "source": [
    "svc.fit(x_train, y_train)"
   ]
  },
  {
   "cell_type": "code",
   "execution_count": 10,
   "metadata": {},
   "outputs": [
    {
     "data": {
      "text/plain": [
       "['model/iris_svm.pkl']"
      ]
     },
     "execution_count": 10,
     "metadata": {},
     "output_type": "execute_result"
    }
   ],
   "source": [
    "joblib.dump(svc, 'model/iris_svm.pkl')"
   ]
  },
  {
   "cell_type": "markdown",
   "metadata": {},
   "source": [
    "### Decision Tree"
   ]
  },
  {
   "cell_type": "code",
   "execution_count": 11,
   "metadata": {},
   "outputs": [],
   "source": [
    "from sklearn.tree import DecisionTreeClassifier\n",
    "dtc = DecisionTreeClassifier()"
   ]
  },
  {
   "cell_type": "code",
   "execution_count": 12,
   "metadata": {},
   "outputs": [
    {
     "data": {
      "text/plain": [
       "DecisionTreeClassifier()"
      ]
     },
     "execution_count": 12,
     "metadata": {},
     "output_type": "execute_result"
    }
   ],
   "source": [
    "dtc.fit(x_train, y_train)"
   ]
  },
  {
   "cell_type": "code",
   "execution_count": 13,
   "metadata": {},
   "outputs": [
    {
     "data": {
      "text/plain": [
       "['model/iris_dt.pkl']"
      ]
     },
     "execution_count": 13,
     "metadata": {},
     "output_type": "execute_result"
    }
   ],
   "source": [
    "joblib.dump(dtc, 'model/iris_dt.pkl')"
   ]
  },
  {
   "cell_type": "markdown",
   "metadata": {},
   "source": [
    "### 저장된 모델로 정확도 산출"
   ]
  },
  {
   "cell_type": "code",
   "execution_count": 14,
   "metadata": {},
   "outputs": [],
   "source": [
    "model_lr = joblib.load('model/iris_lr.pkl')\n",
    "model_svm = joblib.load('model/iris_svm.pkl')\n",
    "model_dt = joblib.load('model/iris_dt.pkl')"
   ]
  },
  {
   "cell_type": "code",
   "execution_count": 15,
   "metadata": {},
   "outputs": [],
   "source": [
    "y_pred_lr = model_lr.predict(x_test)\n",
    "y_pred_svm = model_svm.predict(x_test)\n",
    "y_pred_dt = model_dt.predict(x_test)"
   ]
  },
  {
   "cell_type": "code",
   "execution_count": 16,
   "metadata": {},
   "outputs": [
    {
     "name": "stdout",
     "output_type": "stream",
     "text": [
      "0.9666666666666667 0.9666666666666667 0.9666666666666667\n"
     ]
    }
   ],
   "source": [
    "from sklearn.metrics import accuracy_score\n",
    "acc_lr = accuracy_score(y_test, y_pred_lr)\n",
    "acc_svm = accuracy_score(y_test, y_pred_svm)\n",
    "acc_dt = accuracy_score(y_test, y_pred_dt)\n",
    "print(acc_lr, acc_svm, acc_dt)"
   ]
  },
  {
   "cell_type": "markdown",
   "metadata": {},
   "source": [
    "### 한개의 테스트 값 예측"
   ]
  },
  {
   "cell_type": "code",
   "execution_count": 17,
   "metadata": {},
   "outputs": [
    {
     "data": {
      "text/html": [
       "<div>\n",
       "<style scoped>\n",
       "    .dataframe tbody tr th:only-of-type {\n",
       "        vertical-align: middle;\n",
       "    }\n",
       "\n",
       "    .dataframe tbody tr th {\n",
       "        vertical-align: top;\n",
       "    }\n",
       "\n",
       "    .dataframe thead th {\n",
       "        text-align: right;\n",
       "    }\n",
       "</style>\n",
       "<table border=\"1\" class=\"dataframe\">\n",
       "  <thead>\n",
       "    <tr style=\"text-align: right;\">\n",
       "      <th></th>\n",
       "      <th>sepal length (cm)</th>\n",
       "      <th>sepal width (cm)</th>\n",
       "      <th>petal length (cm)</th>\n",
       "      <th>petal width (cm)</th>\n",
       "    </tr>\n",
       "  </thead>\n",
       "  <tbody>\n",
       "    <tr>\n",
       "      <th>145</th>\n",
       "      <td>6.7</td>\n",
       "      <td>3.0</td>\n",
       "      <td>5.2</td>\n",
       "      <td>2.3</td>\n",
       "    </tr>\n",
       "    <tr>\n",
       "      <th>146</th>\n",
       "      <td>6.3</td>\n",
       "      <td>2.5</td>\n",
       "      <td>5.0</td>\n",
       "      <td>1.9</td>\n",
       "    </tr>\n",
       "    <tr>\n",
       "      <th>147</th>\n",
       "      <td>6.5</td>\n",
       "      <td>3.0</td>\n",
       "      <td>5.2</td>\n",
       "      <td>2.0</td>\n",
       "    </tr>\n",
       "    <tr>\n",
       "      <th>148</th>\n",
       "      <td>6.2</td>\n",
       "      <td>3.4</td>\n",
       "      <td>5.4</td>\n",
       "      <td>2.3</td>\n",
       "    </tr>\n",
       "    <tr>\n",
       "      <th>149</th>\n",
       "      <td>5.9</td>\n",
       "      <td>3.0</td>\n",
       "      <td>5.1</td>\n",
       "      <td>1.8</td>\n",
       "    </tr>\n",
       "  </tbody>\n",
       "</table>\n",
       "</div>"
      ],
      "text/plain": [
       "     sepal length (cm)  sepal width (cm)  petal length (cm)  petal width (cm)\n",
       "145                6.7               3.0                5.2               2.3\n",
       "146                6.3               2.5                5.0               1.9\n",
       "147                6.5               3.0                5.2               2.0\n",
       "148                6.2               3.4                5.4               2.3\n",
       "149                5.9               3.0                5.1               1.8"
      ]
     },
     "execution_count": 17,
     "metadata": {},
     "output_type": "execute_result"
    }
   ],
   "source": [
    "df.tail()"
   ]
  },
  {
   "cell_type": "code",
   "execution_count": 18,
   "metadata": {},
   "outputs": [],
   "source": [
    "test_data = np.array([6.7, 3.0, 5.2, 2.3]).reshape(1, 4)"
   ]
  },
  {
   "cell_type": "code",
   "execution_count": 19,
   "metadata": {},
   "outputs": [],
   "source": [
    "index_lr = model_lr.predict(test_data)[0]\n",
    "index_svm = model_svm.predict(test_data)[0]\n",
    "index_dt = model_dt.predict(test_data)[0]"
   ]
  },
  {
   "cell_type": "code",
   "execution_count": 20,
   "metadata": {},
   "outputs": [
    {
     "name": "stdout",
     "output_type": "stream",
     "text": [
      "Virginica Virginica Virginica\n"
     ]
    }
   ],
   "source": [
    "sp_names = ['Setosa', 'Versicolor', 'Virginica']\n",
    "print(sp_names[index_lr], sp_names[index_svm], sp_names[index_dt])"
   ]
  },
  {
   "cell_type": "markdown",
   "metadata": {},
   "source": [
    "## Deep Learning Model"
   ]
  },
  {
   "cell_type": "code",
   "execution_count": 21,
   "metadata": {},
   "outputs": [
    {
     "name": "stderr",
     "output_type": "stream",
     "text": [
      "Using TensorFlow backend.\n"
     ]
    },
    {
     "name": "stdout",
     "output_type": "stream",
     "text": [
      "Model: \"sequential_1\"\n",
      "_________________________________________________________________\n",
      "Layer (type)                 Output Shape              Param #   \n",
      "=================================================================\n",
      "dense_1 (Dense)              (None, 12)                60        \n",
      "_________________________________________________________________\n",
      "dense_2 (Dense)              (None, 8)                 104       \n",
      "_________________________________________________________________\n",
      "dense_3 (Dense)              (None, 3)                 27        \n",
      "=================================================================\n",
      "Total params: 191\n",
      "Trainable params: 191\n",
      "Non-trainable params: 0\n",
      "_________________________________________________________________\n"
     ]
    }
   ],
   "source": [
    "# 딥러닝 모델 설정\n",
    "from tensorflow import keras\n",
    "from keras.models import Sequential\n",
    "from keras.layers import Dense\n",
    "\n",
    "model = Sequential([\n",
    "    Dense(12, input_shape=(4,), activation='relu'),\n",
    "    Dense(8, input_shape=(4,), activation='relu'),\n",
    "    Dense(3, activation='softmax')\n",
    "])\n",
    "model.summary()"
   ]
  },
  {
   "cell_type": "code",
   "execution_count": 22,
   "metadata": {},
   "outputs": [],
   "source": [
    "# 모델 컴파일 \n",
    "model.compile(loss='categorical_crossentropy', \n",
    "              optimizer='adam',\n",
    "              metrics=['accuracy'])"
   ]
  },
  {
   "cell_type": "code",
   "execution_count": 23,
   "metadata": {},
   "outputs": [],
   "source": [
    "from keras.callbacks import ModelCheckpoint\n",
    "checkpointer = ModelCheckpoint(filepath=\"model/iris_deep.hdf5\", \n",
    "                               monitor='val_loss', \n",
    "                               verbose=1, save_best_only=True)"
   ]
  },
  {
   "cell_type": "code",
   "execution_count": 24,
   "metadata": {},
   "outputs": [
    {
     "data": {
      "text/plain": [
       "(array([1., 0., 0.], dtype=float32),\n",
       " array([0., 0., 1.], dtype=float32),\n",
       " array([0., 0., 1.], dtype=float32))"
      ]
     },
     "execution_count": 24,
     "metadata": {},
     "output_type": "execute_result"
    }
   ],
   "source": [
    "# One hot encoding\n",
    "Y_encoded = keras.utils.to_categorical(y_train)\n",
    "Y_encoded[0], Y_encoded[50], Y_encoded[100]"
   ]
  },
  {
   "cell_type": "code",
   "execution_count": 25,
   "metadata": {},
   "outputs": [
    {
     "name": "stdout",
     "output_type": "stream",
     "text": [
      "Train on 96 samples, validate on 24 samples\n",
      "Epoch 1/100\n",
      " - 0s - loss: 2.0703 - accuracy: 0.3125 - val_loss: 1.6417 - val_accuracy: 0.4167\n",
      "\n",
      "Epoch 00001: val_loss improved from inf to 1.64169, saving model to model/iris_deep.hdf5\n",
      "Epoch 2/100\n",
      " - 0s - loss: 1.9478 - accuracy: 0.3125 - val_loss: 1.5524 - val_accuracy: 0.4167\n",
      "\n",
      "Epoch 00002: val_loss improved from 1.64169 to 1.55238, saving model to model/iris_deep.hdf5\n",
      "Epoch 3/100\n",
      " - 0s - loss: 1.8221 - accuracy: 0.3125 - val_loss: 1.4632 - val_accuracy: 0.4167\n",
      "\n",
      "Epoch 00003: val_loss improved from 1.55238 to 1.46317, saving model to model/iris_deep.hdf5\n",
      "Epoch 4/100\n",
      " - 0s - loss: 1.7035 - accuracy: 0.3125 - val_loss: 1.3780 - val_accuracy: 0.4167\n",
      "\n",
      "Epoch 00004: val_loss improved from 1.46317 to 1.37799, saving model to model/iris_deep.hdf5\n",
      "Epoch 5/100\n",
      " - 0s - loss: 1.5839 - accuracy: 0.3125 - val_loss: 1.2974 - val_accuracy: 0.4167\n",
      "\n",
      "Epoch 00005: val_loss improved from 1.37799 to 1.29742, saving model to model/iris_deep.hdf5\n",
      "Epoch 6/100\n",
      " - 0s - loss: 1.4906 - accuracy: 0.3125 - val_loss: 1.2234 - val_accuracy: 0.4167\n",
      "\n",
      "Epoch 00006: val_loss improved from 1.29742 to 1.22339, saving model to model/iris_deep.hdf5\n",
      "Epoch 7/100\n",
      " - 0s - loss: 1.4003 - accuracy: 0.3125 - val_loss: 1.1656 - val_accuracy: 0.4167\n",
      "\n",
      "Epoch 00007: val_loss improved from 1.22339 to 1.16559, saving model to model/iris_deep.hdf5\n",
      "Epoch 8/100\n",
      " - 0s - loss: 1.3273 - accuracy: 0.3125 - val_loss: 1.1179 - val_accuracy: 0.4167\n",
      "\n",
      "Epoch 00008: val_loss improved from 1.16559 to 1.11792, saving model to model/iris_deep.hdf5\n",
      "Epoch 9/100\n",
      " - 0s - loss: 1.2713 - accuracy: 0.3125 - val_loss: 1.0763 - val_accuracy: 0.4167\n",
      "\n",
      "Epoch 00009: val_loss improved from 1.11792 to 1.07628, saving model to model/iris_deep.hdf5\n",
      "Epoch 10/100\n",
      " - 0s - loss: 1.2083 - accuracy: 0.3229 - val_loss: 1.0396 - val_accuracy: 0.5000\n",
      "\n",
      "Epoch 00010: val_loss improved from 1.07628 to 1.03962, saving model to model/iris_deep.hdf5\n",
      "Epoch 11/100\n",
      " - 0s - loss: 1.1560 - accuracy: 0.4479 - val_loss: 1.0059 - val_accuracy: 0.7083\n",
      "\n",
      "Epoch 00011: val_loss improved from 1.03962 to 1.00595, saving model to model/iris_deep.hdf5\n",
      "Epoch 12/100\n",
      " - 0s - loss: 1.1126 - accuracy: 0.6458 - val_loss: 0.9755 - val_accuracy: 0.7083\n",
      "\n",
      "Epoch 00012: val_loss improved from 1.00595 to 0.97549, saving model to model/iris_deep.hdf5\n",
      "Epoch 13/100\n",
      " - 0s - loss: 1.0679 - accuracy: 0.6458 - val_loss: 0.9490 - val_accuracy: 0.7083\n",
      "\n",
      "Epoch 00013: val_loss improved from 0.97549 to 0.94901, saving model to model/iris_deep.hdf5\n",
      "Epoch 14/100\n",
      " - 0s - loss: 1.0347 - accuracy: 0.6562 - val_loss: 0.9258 - val_accuracy: 0.7083\n",
      "\n",
      "Epoch 00014: val_loss improved from 0.94901 to 0.92583, saving model to model/iris_deep.hdf5\n",
      "Epoch 15/100\n",
      " - 0s - loss: 0.9993 - accuracy: 0.6562 - val_loss: 0.9060 - val_accuracy: 0.7083\n",
      "\n",
      "Epoch 00015: val_loss improved from 0.92583 to 0.90604, saving model to model/iris_deep.hdf5\n",
      "Epoch 16/100\n",
      " - 0s - loss: 0.9734 - accuracy: 0.6562 - val_loss: 0.8882 - val_accuracy: 0.7083\n",
      "\n",
      "Epoch 00016: val_loss improved from 0.90604 to 0.88821, saving model to model/iris_deep.hdf5\n",
      "Epoch 17/100\n",
      " - 0s - loss: 0.9471 - accuracy: 0.6562 - val_loss: 0.8734 - val_accuracy: 0.7083\n",
      "\n",
      "Epoch 00017: val_loss improved from 0.88821 to 0.87335, saving model to model/iris_deep.hdf5\n",
      "Epoch 18/100\n",
      " - 0s - loss: 0.9278 - accuracy: 0.6562 - val_loss: 0.8610 - val_accuracy: 0.7083\n",
      "\n",
      "Epoch 00018: val_loss improved from 0.87335 to 0.86097, saving model to model/iris_deep.hdf5\n",
      "Epoch 19/100\n",
      " - 0s - loss: 0.9114 - accuracy: 0.6562 - val_loss: 0.8508 - val_accuracy: 0.7083\n",
      "\n",
      "Epoch 00019: val_loss improved from 0.86097 to 0.85084, saving model to model/iris_deep.hdf5\n",
      "Epoch 20/100\n",
      " - 0s - loss: 0.8960 - accuracy: 0.6562 - val_loss: 0.8418 - val_accuracy: 0.7083\n",
      "\n",
      "Epoch 00020: val_loss improved from 0.85084 to 0.84180, saving model to model/iris_deep.hdf5\n",
      "Epoch 21/100\n",
      " - 0s - loss: 0.8839 - accuracy: 0.6562 - val_loss: 0.8347 - val_accuracy: 0.7083\n",
      "\n",
      "Epoch 00021: val_loss improved from 0.84180 to 0.83472, saving model to model/iris_deep.hdf5\n",
      "Epoch 22/100\n",
      " - 0s - loss: 0.8733 - accuracy: 0.6562 - val_loss: 0.8278 - val_accuracy: 0.7083\n",
      "\n",
      "Epoch 00022: val_loss improved from 0.83472 to 0.82776, saving model to model/iris_deep.hdf5\n",
      "Epoch 23/100\n",
      " - 0s - loss: 0.8628 - accuracy: 0.6562 - val_loss: 0.8202 - val_accuracy: 0.7083\n",
      "\n",
      "Epoch 00023: val_loss improved from 0.82776 to 0.82018, saving model to model/iris_deep.hdf5\n",
      "Epoch 24/100\n",
      " - 0s - loss: 0.8521 - accuracy: 0.6562 - val_loss: 0.8127 - val_accuracy: 0.7083\n",
      "\n",
      "Epoch 00024: val_loss improved from 0.82018 to 0.81272, saving model to model/iris_deep.hdf5\n",
      "Epoch 25/100\n",
      " - 0s - loss: 0.8409 - accuracy: 0.6667 - val_loss: 0.8062 - val_accuracy: 0.7083\n",
      "\n",
      "Epoch 00025: val_loss improved from 0.81272 to 0.80624, saving model to model/iris_deep.hdf5\n",
      "Epoch 26/100\n",
      " - 0s - loss: 0.8307 - accuracy: 0.6667 - val_loss: 0.7998 - val_accuracy: 0.7083\n",
      "\n",
      "Epoch 00026: val_loss improved from 0.80624 to 0.79979, saving model to model/iris_deep.hdf5\n",
      "Epoch 27/100\n",
      " - 0s - loss: 0.8207 - accuracy: 0.6771 - val_loss: 0.7939 - val_accuracy: 0.7083\n",
      "\n",
      "Epoch 00027: val_loss improved from 0.79979 to 0.79394, saving model to model/iris_deep.hdf5\n",
      "Epoch 28/100\n",
      " - 0s - loss: 0.8112 - accuracy: 0.6979 - val_loss: 0.7883 - val_accuracy: 0.7500\n",
      "\n",
      "Epoch 00028: val_loss improved from 0.79394 to 0.78828, saving model to model/iris_deep.hdf5\n",
      "Epoch 29/100\n",
      " - 0s - loss: 0.8015 - accuracy: 0.7188 - val_loss: 0.7802 - val_accuracy: 0.7500\n",
      "\n",
      "Epoch 00029: val_loss improved from 0.78828 to 0.78019, saving model to model/iris_deep.hdf5\n",
      "Epoch 30/100\n",
      " - 0s - loss: 0.7923 - accuracy: 0.7292 - val_loss: 0.7717 - val_accuracy: 0.7500\n",
      "\n",
      "Epoch 00030: val_loss improved from 0.78019 to 0.77170, saving model to model/iris_deep.hdf5\n",
      "Epoch 31/100\n",
      " - 0s - loss: 0.7827 - accuracy: 0.7292 - val_loss: 0.7631 - val_accuracy: 0.7500\n",
      "\n",
      "Epoch 00031: val_loss improved from 0.77170 to 0.76306, saving model to model/iris_deep.hdf5\n",
      "Epoch 32/100\n",
      " - 0s - loss: 0.7732 - accuracy: 0.7396 - val_loss: 0.7543 - val_accuracy: 0.7500\n",
      "\n",
      "Epoch 00032: val_loss improved from 0.76306 to 0.75429, saving model to model/iris_deep.hdf5\n",
      "Epoch 33/100\n",
      " - 0s - loss: 0.7640 - accuracy: 0.7396 - val_loss: 0.7453 - val_accuracy: 0.7500\n",
      "\n",
      "Epoch 00033: val_loss improved from 0.75429 to 0.74533, saving model to model/iris_deep.hdf5\n",
      "Epoch 34/100\n",
      " - 0s - loss: 0.7545 - accuracy: 0.7500 - val_loss: 0.7363 - val_accuracy: 0.7917\n",
      "\n",
      "Epoch 00034: val_loss improved from 0.74533 to 0.73631, saving model to model/iris_deep.hdf5\n",
      "Epoch 35/100\n",
      " - 0s - loss: 0.7454 - accuracy: 0.7500 - val_loss: 0.7277 - val_accuracy: 0.8333\n",
      "\n",
      "Epoch 00035: val_loss improved from 0.73631 to 0.72772, saving model to model/iris_deep.hdf5\n",
      "Epoch 36/100\n",
      " - 0s - loss: 0.7367 - accuracy: 0.7500 - val_loss: 0.7197 - val_accuracy: 0.8333\n",
      "\n",
      "Epoch 00036: val_loss improved from 0.72772 to 0.71973, saving model to model/iris_deep.hdf5\n",
      "Epoch 37/100\n",
      " - 0s - loss: 0.7280 - accuracy: 0.7917 - val_loss: 0.7135 - val_accuracy: 0.8333\n",
      "\n",
      "Epoch 00037: val_loss improved from 0.71973 to 0.71348, saving model to model/iris_deep.hdf5\n",
      "Epoch 38/100\n",
      " - 0s - loss: 0.7181 - accuracy: 0.8229 - val_loss: 0.7061 - val_accuracy: 0.8333\n",
      "\n",
      "Epoch 00038: val_loss improved from 0.71348 to 0.70614, saving model to model/iris_deep.hdf5\n",
      "Epoch 39/100\n",
      " - 0s - loss: 0.7088 - accuracy: 0.8229 - val_loss: 0.6976 - val_accuracy: 0.8333\n",
      "\n",
      "Epoch 00039: val_loss improved from 0.70614 to 0.69755, saving model to model/iris_deep.hdf5\n",
      "Epoch 40/100\n",
      " - 0s - loss: 0.6998 - accuracy: 0.7708 - val_loss: 0.6902 - val_accuracy: 0.8333\n",
      "\n",
      "Epoch 00040: val_loss improved from 0.69755 to 0.69017, saving model to model/iris_deep.hdf5\n",
      "Epoch 41/100\n",
      " - 0s - loss: 0.6914 - accuracy: 0.7708 - val_loss: 0.6828 - val_accuracy: 0.8333\n",
      "\n",
      "Epoch 00041: val_loss improved from 0.69017 to 0.68280, saving model to model/iris_deep.hdf5\n",
      "Epoch 42/100\n",
      " - 0s - loss: 0.6831 - accuracy: 0.7604 - val_loss: 0.6733 - val_accuracy: 0.8333\n",
      "\n",
      "Epoch 00042: val_loss improved from 0.68280 to 0.67335, saving model to model/iris_deep.hdf5\n",
      "Epoch 43/100\n",
      " - 0s - loss: 0.6742 - accuracy: 0.7604 - val_loss: 0.6654 - val_accuracy: 0.8333\n",
      "\n",
      "Epoch 00043: val_loss improved from 0.67335 to 0.66540, saving model to model/iris_deep.hdf5\n",
      "Epoch 44/100\n",
      " - 0s - loss: 0.6657 - accuracy: 0.7604 - val_loss: 0.6579 - val_accuracy: 0.8333\n"
     ]
    },
    {
     "name": "stdout",
     "output_type": "stream",
     "text": [
      "\n",
      "Epoch 00044: val_loss improved from 0.66540 to 0.65787, saving model to model/iris_deep.hdf5\n",
      "Epoch 45/100\n",
      " - 0s - loss: 0.6571 - accuracy: 0.7604 - val_loss: 0.6494 - val_accuracy: 0.8333\n",
      "\n",
      "Epoch 00045: val_loss improved from 0.65787 to 0.64943, saving model to model/iris_deep.hdf5\n",
      "Epoch 46/100\n",
      " - 0s - loss: 0.6490 - accuracy: 0.7708 - val_loss: 0.6413 - val_accuracy: 0.8333\n",
      "\n",
      "Epoch 00046: val_loss improved from 0.64943 to 0.64129, saving model to model/iris_deep.hdf5\n",
      "Epoch 47/100\n",
      " - 0s - loss: 0.6405 - accuracy: 0.7604 - val_loss: 0.6322 - val_accuracy: 0.8333\n",
      "\n",
      "Epoch 00047: val_loss improved from 0.64129 to 0.63220, saving model to model/iris_deep.hdf5\n",
      "Epoch 48/100\n",
      " - 0s - loss: 0.6326 - accuracy: 0.7500 - val_loss: 0.6242 - val_accuracy: 0.8333\n",
      "\n",
      "Epoch 00048: val_loss improved from 0.63220 to 0.62422, saving model to model/iris_deep.hdf5\n",
      "Epoch 49/100\n",
      " - 0s - loss: 0.6249 - accuracy: 0.7500 - val_loss: 0.6163 - val_accuracy: 0.8333\n",
      "\n",
      "Epoch 00049: val_loss improved from 0.62422 to 0.61633, saving model to model/iris_deep.hdf5\n",
      "Epoch 50/100\n",
      " - 0s - loss: 0.6172 - accuracy: 0.7708 - val_loss: 0.6104 - val_accuracy: 0.8333\n",
      "\n",
      "Epoch 00050: val_loss improved from 0.61633 to 0.61039, saving model to model/iris_deep.hdf5\n",
      "Epoch 51/100\n",
      " - 0s - loss: 0.6094 - accuracy: 0.8333 - val_loss: 0.6052 - val_accuracy: 0.8333\n",
      "\n",
      "Epoch 00051: val_loss improved from 0.61039 to 0.60517, saving model to model/iris_deep.hdf5\n",
      "Epoch 52/100\n",
      " - 0s - loss: 0.6018 - accuracy: 0.8646 - val_loss: 0.5999 - val_accuracy: 0.8750\n",
      "\n",
      "Epoch 00052: val_loss improved from 0.60517 to 0.59992, saving model to model/iris_deep.hdf5\n",
      "Epoch 53/100\n",
      " - 0s - loss: 0.5949 - accuracy: 0.8750 - val_loss: 0.5944 - val_accuracy: 0.8750\n",
      "\n",
      "Epoch 00053: val_loss improved from 0.59992 to 0.59439, saving model to model/iris_deep.hdf5\n",
      "Epoch 54/100\n",
      " - 0s - loss: 0.5876 - accuracy: 0.8750 - val_loss: 0.5876 - val_accuracy: 0.8750\n",
      "\n",
      "Epoch 00054: val_loss improved from 0.59439 to 0.58757, saving model to model/iris_deep.hdf5\n",
      "Epoch 55/100\n",
      " - 0s - loss: 0.5806 - accuracy: 0.8750 - val_loss: 0.5809 - val_accuracy: 0.8333\n",
      "\n",
      "Epoch 00055: val_loss improved from 0.58757 to 0.58086, saving model to model/iris_deep.hdf5\n",
      "Epoch 56/100\n",
      " - 0s - loss: 0.5734 - accuracy: 0.8542 - val_loss: 0.5748 - val_accuracy: 0.8333\n",
      "\n",
      "Epoch 00056: val_loss improved from 0.58086 to 0.57475, saving model to model/iris_deep.hdf5\n",
      "Epoch 57/100\n",
      " - 0s - loss: 0.5669 - accuracy: 0.8646 - val_loss: 0.5701 - val_accuracy: 0.8750\n",
      "\n",
      "Epoch 00057: val_loss improved from 0.57475 to 0.57012, saving model to model/iris_deep.hdf5\n",
      "Epoch 58/100\n",
      " - 0s - loss: 0.5603 - accuracy: 0.8750 - val_loss: 0.5651 - val_accuracy: 0.8750\n",
      "\n",
      "Epoch 00058: val_loss improved from 0.57012 to 0.56508, saving model to model/iris_deep.hdf5\n",
      "Epoch 59/100\n",
      " - 0s - loss: 0.5539 - accuracy: 0.8958 - val_loss: 0.5609 - val_accuracy: 0.9167\n",
      "\n",
      "Epoch 00059: val_loss improved from 0.56508 to 0.56090, saving model to model/iris_deep.hdf5\n",
      "Epoch 60/100\n",
      " - 0s - loss: 0.5481 - accuracy: 0.9271 - val_loss: 0.5551 - val_accuracy: 0.9167\n",
      "\n",
      "Epoch 00060: val_loss improved from 0.56090 to 0.55515, saving model to model/iris_deep.hdf5\n",
      "Epoch 61/100\n",
      " - 0s - loss: 0.5426 - accuracy: 0.9375 - val_loss: 0.5510 - val_accuracy: 0.9583\n",
      "\n",
      "Epoch 00061: val_loss improved from 0.55515 to 0.55097, saving model to model/iris_deep.hdf5\n",
      "Epoch 62/100\n",
      " - 0s - loss: 0.5374 - accuracy: 0.9375 - val_loss: 0.5477 - val_accuracy: 0.9583\n",
      "\n",
      "Epoch 00062: val_loss improved from 0.55097 to 0.54774, saving model to model/iris_deep.hdf5\n",
      "Epoch 63/100\n",
      " - 0s - loss: 0.5321 - accuracy: 0.9375 - val_loss: 0.5430 - val_accuracy: 0.9583\n",
      "\n",
      "Epoch 00063: val_loss improved from 0.54774 to 0.54303, saving model to model/iris_deep.hdf5\n",
      "Epoch 64/100\n",
      " - 0s - loss: 0.5271 - accuracy: 0.9479 - val_loss: 0.5379 - val_accuracy: 0.9167\n",
      "\n",
      "Epoch 00064: val_loss improved from 0.54303 to 0.53785, saving model to model/iris_deep.hdf5\n",
      "Epoch 65/100\n",
      " - 0s - loss: 0.5225 - accuracy: 0.9375 - val_loss: 0.5323 - val_accuracy: 0.9167\n",
      "\n",
      "Epoch 00065: val_loss improved from 0.53785 to 0.53229, saving model to model/iris_deep.hdf5\n",
      "Epoch 66/100\n",
      " - 0s - loss: 0.5179 - accuracy: 0.9271 - val_loss: 0.5264 - val_accuracy: 0.9167\n",
      "\n",
      "Epoch 00066: val_loss improved from 0.53229 to 0.52636, saving model to model/iris_deep.hdf5\n",
      "Epoch 67/100\n",
      " - 0s - loss: 0.5134 - accuracy: 0.9062 - val_loss: 0.5201 - val_accuracy: 0.9167\n",
      "\n",
      "Epoch 00067: val_loss improved from 0.52636 to 0.52007, saving model to model/iris_deep.hdf5\n",
      "Epoch 68/100\n",
      " - 0s - loss: 0.5091 - accuracy: 0.8854 - val_loss: 0.5128 - val_accuracy: 0.9167\n",
      "\n",
      "Epoch 00068: val_loss improved from 0.52007 to 0.51276, saving model to model/iris_deep.hdf5\n",
      "Epoch 69/100\n",
      " - 0s - loss: 0.5058 - accuracy: 0.8542 - val_loss: 0.5058 - val_accuracy: 0.8750\n",
      "\n",
      "Epoch 00069: val_loss improved from 0.51276 to 0.50577, saving model to model/iris_deep.hdf5\n",
      "Epoch 70/100\n",
      " - 0s - loss: 0.5019 - accuracy: 0.8125 - val_loss: 0.5019 - val_accuracy: 0.8750\n",
      "\n",
      "Epoch 00070: val_loss improved from 0.50577 to 0.50194, saving model to model/iris_deep.hdf5\n",
      "Epoch 71/100\n",
      " - 0s - loss: 0.4983 - accuracy: 0.8229 - val_loss: 0.4986 - val_accuracy: 0.8750\n",
      "\n",
      "Epoch 00071: val_loss improved from 0.50194 to 0.49860, saving model to model/iris_deep.hdf5\n",
      "Epoch 72/100\n",
      " - 0s - loss: 0.4947 - accuracy: 0.8125 - val_loss: 0.4941 - val_accuracy: 0.8750\n",
      "\n",
      "Epoch 00072: val_loss improved from 0.49860 to 0.49406, saving model to model/iris_deep.hdf5\n",
      "Epoch 73/100\n",
      " - 0s - loss: 0.4915 - accuracy: 0.8125 - val_loss: 0.4907 - val_accuracy: 0.8750\n",
      "\n",
      "Epoch 00073: val_loss improved from 0.49406 to 0.49075, saving model to model/iris_deep.hdf5\n",
      "Epoch 74/100\n",
      " - 0s - loss: 0.4878 - accuracy: 0.8125 - val_loss: 0.4873 - val_accuracy: 0.8750\n",
      "\n",
      "Epoch 00074: val_loss improved from 0.49075 to 0.48729, saving model to model/iris_deep.hdf5\n",
      "Epoch 75/100\n",
      " - 0s - loss: 0.4844 - accuracy: 0.8229 - val_loss: 0.4843 - val_accuracy: 0.8750\n",
      "\n",
      "Epoch 00075: val_loss improved from 0.48729 to 0.48428, saving model to model/iris_deep.hdf5\n",
      "Epoch 76/100\n",
      " - 0s - loss: 0.4812 - accuracy: 0.8333 - val_loss: 0.4815 - val_accuracy: 0.8750\n",
      "\n",
      "Epoch 00076: val_loss improved from 0.48428 to 0.48146, saving model to model/iris_deep.hdf5\n",
      "Epoch 77/100\n",
      " - 0s - loss: 0.4784 - accuracy: 0.8229 - val_loss: 0.4789 - val_accuracy: 0.8750\n",
      "\n",
      "Epoch 00077: val_loss improved from 0.48146 to 0.47895, saving model to model/iris_deep.hdf5\n",
      "Epoch 78/100\n",
      " - 0s - loss: 0.4754 - accuracy: 0.8542 - val_loss: 0.4762 - val_accuracy: 0.9167\n",
      "\n",
      "Epoch 00078: val_loss improved from 0.47895 to 0.47621, saving model to model/iris_deep.hdf5\n",
      "Epoch 79/100\n",
      " - 0s - loss: 0.4718 - accuracy: 0.8750 - val_loss: 0.4729 - val_accuracy: 0.9167\n",
      "\n",
      "Epoch 00079: val_loss improved from 0.47621 to 0.47285, saving model to model/iris_deep.hdf5\n",
      "Epoch 80/100\n",
      " - 0s - loss: 0.4696 - accuracy: 0.8854 - val_loss: 0.4699 - val_accuracy: 0.9583\n",
      "\n",
      "Epoch 00080: val_loss improved from 0.47285 to 0.46989, saving model to model/iris_deep.hdf5\n",
      "Epoch 81/100\n",
      " - 0s - loss: 0.4666 - accuracy: 0.8958 - val_loss: 0.4651 - val_accuracy: 0.9583\n",
      "\n",
      "Epoch 00081: val_loss improved from 0.46989 to 0.46508, saving model to model/iris_deep.hdf5\n",
      "Epoch 82/100\n",
      " - 0s - loss: 0.4643 - accuracy: 0.8854 - val_loss: 0.4605 - val_accuracy: 0.9583\n",
      "\n",
      "Epoch 00082: val_loss improved from 0.46508 to 0.46049, saving model to model/iris_deep.hdf5\n",
      "Epoch 83/100\n",
      " - 0s - loss: 0.4614 - accuracy: 0.8750 - val_loss: 0.4583 - val_accuracy: 0.9583\n",
      "\n",
      "Epoch 00083: val_loss improved from 0.46049 to 0.45831, saving model to model/iris_deep.hdf5\n",
      "Epoch 84/100\n",
      " - 0s - loss: 0.4590 - accuracy: 0.8646 - val_loss: 0.4554 - val_accuracy: 0.9583\n",
      "\n",
      "Epoch 00084: val_loss improved from 0.45831 to 0.45542, saving model to model/iris_deep.hdf5\n",
      "Epoch 85/100\n",
      " - 0s - loss: 0.4561 - accuracy: 0.8646 - val_loss: 0.4557 - val_accuracy: 1.0000\n",
      "\n",
      "Epoch 00085: val_loss did not improve from 0.45542\n",
      "Epoch 86/100\n",
      " - 0s - loss: 0.4534 - accuracy: 0.8958 - val_loss: 0.4541 - val_accuracy: 1.0000\n",
      "\n",
      "Epoch 00086: val_loss improved from 0.45542 to 0.45410, saving model to model/iris_deep.hdf5\n",
      "Epoch 87/100\n",
      " - 0s - loss: 0.4500 - accuracy: 0.8958 - val_loss: 0.4507 - val_accuracy: 1.0000\n",
      "\n",
      "Epoch 00087: val_loss improved from 0.45410 to 0.45075, saving model to model/iris_deep.hdf5\n",
      "Epoch 88/100\n",
      " - 0s - loss: 0.4472 - accuracy: 0.9062 - val_loss: 0.4485 - val_accuracy: 1.0000\n"
     ]
    },
    {
     "name": "stdout",
     "output_type": "stream",
     "text": [
      "\n",
      "Epoch 00088: val_loss improved from 0.45075 to 0.44855, saving model to model/iris_deep.hdf5\n",
      "Epoch 89/100\n",
      " - 0s - loss: 0.4448 - accuracy: 0.9062 - val_loss: 0.4458 - val_accuracy: 1.0000\n",
      "\n",
      "Epoch 00089: val_loss improved from 0.44855 to 0.44578, saving model to model/iris_deep.hdf5\n",
      "Epoch 90/100\n",
      " - 0s - loss: 0.4423 - accuracy: 0.9062 - val_loss: 0.4441 - val_accuracy: 1.0000\n",
      "\n",
      "Epoch 00090: val_loss improved from 0.44578 to 0.44415, saving model to model/iris_deep.hdf5\n",
      "Epoch 91/100\n",
      " - 0s - loss: 0.4399 - accuracy: 0.9375 - val_loss: 0.4435 - val_accuracy: 1.0000\n",
      "\n",
      "Epoch 00091: val_loss improved from 0.44415 to 0.44346, saving model to model/iris_deep.hdf5\n",
      "Epoch 92/100\n",
      " - 0s - loss: 0.4377 - accuracy: 0.9479 - val_loss: 0.4446 - val_accuracy: 1.0000\n",
      "\n",
      "Epoch 00092: val_loss did not improve from 0.44346\n",
      "Epoch 93/100\n",
      " - 0s - loss: 0.4359 - accuracy: 0.9688 - val_loss: 0.4450 - val_accuracy: 1.0000\n",
      "\n",
      "Epoch 00093: val_loss did not improve from 0.44346\n",
      "Epoch 94/100\n",
      " - 0s - loss: 0.4340 - accuracy: 0.9792 - val_loss: 0.4430 - val_accuracy: 1.0000\n",
      "\n",
      "Epoch 00094: val_loss improved from 0.44346 to 0.44304, saving model to model/iris_deep.hdf5\n",
      "Epoch 95/100\n",
      " - 0s - loss: 0.4319 - accuracy: 0.9583 - val_loss: 0.4409 - val_accuracy: 1.0000\n",
      "\n",
      "Epoch 00095: val_loss improved from 0.44304 to 0.44091, saving model to model/iris_deep.hdf5\n",
      "Epoch 96/100\n",
      " - 0s - loss: 0.4292 - accuracy: 0.9688 - val_loss: 0.4347 - val_accuracy: 1.0000\n",
      "\n",
      "Epoch 00096: val_loss improved from 0.44091 to 0.43466, saving model to model/iris_deep.hdf5\n",
      "Epoch 97/100\n",
      " - 0s - loss: 0.4271 - accuracy: 0.9583 - val_loss: 0.4286 - val_accuracy: 1.0000\n",
      "\n",
      "Epoch 00097: val_loss improved from 0.43466 to 0.42856, saving model to model/iris_deep.hdf5\n",
      "Epoch 98/100\n",
      " - 0s - loss: 0.4247 - accuracy: 0.9375 - val_loss: 0.4236 - val_accuracy: 1.0000\n",
      "\n",
      "Epoch 00098: val_loss improved from 0.42856 to 0.42361, saving model to model/iris_deep.hdf5\n",
      "Epoch 99/100\n",
      " - 0s - loss: 0.4230 - accuracy: 0.9062 - val_loss: 0.4196 - val_accuracy: 1.0000\n",
      "\n",
      "Epoch 00099: val_loss improved from 0.42361 to 0.41962, saving model to model/iris_deep.hdf5\n",
      "Epoch 100/100\n",
      " - 0s - loss: 0.4205 - accuracy: 0.9062 - val_loss: 0.4177 - val_accuracy: 1.0000\n",
      "\n",
      "Epoch 00100: val_loss improved from 0.41962 to 0.41770, saving model to model/iris_deep.hdf5\n"
     ]
    },
    {
     "data": {
      "text/plain": [
       "<keras.callbacks.callbacks.History at 0x21c443b1988>"
      ]
     },
     "execution_count": 25,
     "metadata": {},
     "output_type": "execute_result"
    }
   ],
   "source": [
    "# 모델 학습\n",
    "model.fit(x_train, Y_encoded, epochs=100, batch_size=30, verbose=2,\n",
    "          validation_split=0.2, callbacks=[checkpointer])"
   ]
  },
  {
   "cell_type": "code",
   "execution_count": 26,
   "metadata": {},
   "outputs": [],
   "source": [
    "from keras.models import load_model\n",
    "model_deep = load_model(\"model/iris_deep.hdf5\")"
   ]
  },
  {
   "cell_type": "code",
   "execution_count": 27,
   "metadata": {},
   "outputs": [
    {
     "name": "stdout",
     "output_type": "stream",
     "text": [
      "\r",
      "30/30 [==============================] - 0s 0us/step\n"
     ]
    },
    {
     "data": {
      "text/plain": [
       "0.9333333373069763"
      ]
     },
     "execution_count": 27,
     "metadata": {},
     "output_type": "execute_result"
    }
   ],
   "source": [
    "model.evaluate(x_test, keras.utils.to_categorical(y_test))[1]"
   ]
  },
  {
   "cell_type": "code",
   "execution_count": 28,
   "metadata": {},
   "outputs": [
    {
     "data": {
      "text/plain": [
       "2"
      ]
     },
     "execution_count": 28,
     "metadata": {},
     "output_type": "execute_result"
    }
   ],
   "source": [
    "model_deep.predict_classes(test_data)[0]"
   ]
  },
  {
   "cell_type": "code",
   "execution_count": 29,
   "metadata": {},
   "outputs": [
    {
     "data": {
      "text/plain": [
       "array([[0.01211968, 0.4293934 , 0.5584869 ]], dtype=float32)"
      ]
     },
     "execution_count": 29,
     "metadata": {},
     "output_type": "execute_result"
    }
   ],
   "source": [
    "model_deep.predict(test_data)"
   ]
  },
  {
   "cell_type": "code",
   "execution_count": 30,
   "metadata": {},
   "outputs": [
    {
     "data": {
      "text/plain": [
       "2"
      ]
     },
     "execution_count": 30,
     "metadata": {},
     "output_type": "execute_result"
    }
   ],
   "source": [
    "np.argmax(model_deep.predict(test_data)[0])"
   ]
  },
  {
   "cell_type": "code",
   "execution_count": null,
   "metadata": {},
   "outputs": [],
   "source": []
  }
 ],
 "metadata": {
  "kernelspec": {
   "display_name": "Python 3",
   "language": "python",
   "name": "python3"
  },
  "language_info": {
   "codemirror_mode": {
    "name": "ipython",
    "version": 3
   },
   "file_extension": ".py",
   "mimetype": "text/x-python",
   "name": "python",
   "nbconvert_exporter": "python",
   "pygments_lexer": "ipython3",
   "version": "3.7.7"
  }
 },
 "nbformat": 4,
 "nbformat_minor": 4
}
