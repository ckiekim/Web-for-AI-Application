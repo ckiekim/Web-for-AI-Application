{
 "cells": [
  {
   "cell_type": "markdown",
   "metadata": {},
   "source": [
    "# 이미지 인식 - CNN\n",
    "## MNIST 사례"
   ]
  },
  {
   "cell_type": "code",
   "execution_count": 1,
   "metadata": {},
   "outputs": [
    {
     "name": "stderr",
     "output_type": "stream",
     "text": [
      "Using TensorFlow backend.\n"
     ]
    }
   ],
   "source": [
    "import numpy as np\n",
    "import tensorflow as tf\n",
    "from tensorflow import keras\n",
    "from keras.datasets import mnist\n",
    "from keras.models import Sequential\n",
    "from keras.layers import Dense, Dropout, Flatten, Conv2D, MaxPooling2D\n",
    "from keras.callbacks import ModelCheckpoint, EarlyStopping\n",
    "\n",
    "import os\n",
    "import matplotlib.pyplot as plt\n",
    "%matplotlib inline"
   ]
  },
  {
   "cell_type": "code",
   "execution_count": 2,
   "metadata": {},
   "outputs": [],
   "source": [
    "# seed 값 설정\n",
    "seed = 2020\n",
    "np.random.seed(seed)\n",
    "tf.random.set_seed(seed)"
   ]
  },
  {
   "cell_type": "code",
   "execution_count": 3,
   "metadata": {},
   "outputs": [],
   "source": [
    "# 데이터 불러오기\n",
    "(X_train, Y_train), (X_test, Y_test) = mnist.load_data()\n",
    "X_train = X_train.reshape(-1, 28, 28, 1).astype('float32') / 255\n",
    "X_test = X_test.reshape(-1, 28, 28, 1).astype('float32') / 255\n",
    "Y_train = keras.utils.to_categorical(Y_train)\n",
    "Y_test = keras.utils.to_categorical(Y_test)"
   ]
  },
  {
   "cell_type": "code",
   "execution_count": 4,
   "metadata": {},
   "outputs": [
    {
     "name": "stdout",
     "output_type": "stream",
     "text": [
      "Model: \"sequential_1\"\n",
      "_________________________________________________________________\n",
      "Layer (type)                 Output Shape              Param #   \n",
      "=================================================================\n",
      "conv2d_1 (Conv2D)            (None, 26, 26, 32)        320       \n",
      "_________________________________________________________________\n",
      "conv2d_2 (Conv2D)            (None, 24, 24, 64)        18496     \n",
      "_________________________________________________________________\n",
      "max_pooling2d_1 (MaxPooling2 (None, 12, 12, 64)        0         \n",
      "_________________________________________________________________\n",
      "dropout_1 (Dropout)          (None, 12, 12, 64)        0         \n",
      "_________________________________________________________________\n",
      "flatten_1 (Flatten)          (None, 9216)              0         \n",
      "_________________________________________________________________\n",
      "dense_1 (Dense)              (None, 128)               1179776   \n",
      "_________________________________________________________________\n",
      "dropout_2 (Dropout)          (None, 128)               0         \n",
      "_________________________________________________________________\n",
      "dense_2 (Dense)              (None, 10)                1290      \n",
      "=================================================================\n",
      "Total params: 1,199,882\n",
      "Trainable params: 1,199,882\n",
      "Non-trainable params: 0\n",
      "_________________________________________________________________\n"
     ]
    }
   ],
   "source": [
    "# 컨볼루션 신경망 설정\n",
    "model = Sequential([\n",
    "    Conv2D(32, kernel_size=(3, 3), input_shape=(28, 28, 1), \n",
    "           activation='relu'),\n",
    "    Conv2D(64, (3, 3), activation='relu'),\n",
    "    MaxPooling2D(pool_size=2),\n",
    "    Dropout(0.25),\n",
    "    Flatten(),\n",
    "    Dense(128, activation='relu'),\n",
    "    Dropout(0.5),\n",
    "    Dense(10, activation='softmax')\n",
    "])\n",
    "model.summary()"
   ]
  },
  {
   "cell_type": "code",
   "execution_count": 6,
   "metadata": {},
   "outputs": [],
   "source": [
    "model.compile(loss='categorical_crossentropy',\n",
    "              optimizer='adam',\n",
    "              metrics=['accuracy'])"
   ]
  },
  {
   "cell_type": "code",
   "execution_count": 7,
   "metadata": {},
   "outputs": [],
   "source": [
    "# 모델 최적화 설정\n",
    "MODEL_DIR = './model/'\n",
    "if not os.path.exists(MODEL_DIR):\n",
    "    os.mkdir(MODEL_DIR)"
   ]
  },
  {
   "cell_type": "code",
   "execution_count": 8,
   "metadata": {},
   "outputs": [],
   "source": [
    "modelpath = MODEL_DIR + \"mnist-cnn.hdf5\"\n",
    "checkpointer = ModelCheckpoint(filepath=modelpath, monitor='val_loss', \n",
    "                               verbose=1, save_best_only=True)\n",
    "early_stopping_callback = EarlyStopping(monitor='val_loss', \n",
    "                                        patience=10)"
   ]
  },
  {
   "cell_type": "code",
   "execution_count": 9,
   "metadata": {},
   "outputs": [
    {
     "name": "stdout",
     "output_type": "stream",
     "text": [
      "Train on 48000 samples, validate on 12000 samples\n",
      "Epoch 1/30\n",
      "48000/48000 [==============================] - 39s 821us/step - loss: 0.3049 - accuracy: 0.9065 - val_loss: 0.0670 - val_accuracy: 0.9805\n",
      "\n",
      "Epoch 00001: val_loss improved from inf to 0.06699, saving model to ./model/mnist-cnn.hdf5\n",
      "Epoch 2/30\n",
      "48000/48000 [==============================] - 39s 815us/step - loss: 0.0974 - accuracy: 0.9720 - val_loss: 0.0514 - val_accuracy: 0.9838\n",
      "\n",
      "Epoch 00002: val_loss improved from 0.06699 to 0.05135, saving model to ./model/mnist-cnn.hdf5\n",
      "Epoch 3/30\n",
      "48000/48000 [==============================] - 39s 814us/step - loss: 0.0706 - accuracy: 0.9790 - val_loss: 0.0456 - val_accuracy: 0.9871\n",
      "\n",
      "Epoch 00003: val_loss improved from 0.05135 to 0.04556, saving model to ./model/mnist-cnn.hdf5\n",
      "Epoch 4/30\n",
      "48000/48000 [==============================] - 39s 816us/step - loss: 0.0561 - accuracy: 0.9827 - val_loss: 0.0449 - val_accuracy: 0.9872\n",
      "\n",
      "Epoch 00004: val_loss improved from 0.04556 to 0.04492, saving model to ./model/mnist-cnn.hdf5\n",
      "Epoch 5/30\n",
      "48000/48000 [==============================] - 39s 816us/step - loss: 0.0487 - accuracy: 0.9849 - val_loss: 0.0362 - val_accuracy: 0.9889\n",
      "\n",
      "Epoch 00005: val_loss improved from 0.04492 to 0.03620, saving model to ./model/mnist-cnn.hdf5\n",
      "Epoch 6/30\n",
      "48000/48000 [==============================] - 39s 816us/step - loss: 0.0417 - accuracy: 0.9865 - val_loss: 0.0391 - val_accuracy: 0.9885\n",
      "\n",
      "Epoch 00006: val_loss did not improve from 0.03620\n",
      "Epoch 7/30\n",
      "48000/48000 [==============================] - 40s 827us/step - loss: 0.0381 - accuracy: 0.9880 - val_loss: 0.0354 - val_accuracy: 0.9897\n",
      "\n",
      "Epoch 00007: val_loss improved from 0.03620 to 0.03539, saving model to ./model/mnist-cnn.hdf5\n",
      "Epoch 8/30\n",
      "48000/48000 [==============================] - 40s 828us/step - loss: 0.0339 - accuracy: 0.9895 - val_loss: 0.0319 - val_accuracy: 0.9911\n",
      "\n",
      "Epoch 00008: val_loss improved from 0.03539 to 0.03186, saving model to ./model/mnist-cnn.hdf5\n",
      "Epoch 9/30\n",
      "48000/48000 [==============================] - 39s 821us/step - loss: 0.0301 - accuracy: 0.9904 - val_loss: 0.0362 - val_accuracy: 0.9904\n",
      "\n",
      "Epoch 00009: val_loss did not improve from 0.03186\n",
      "Epoch 10/30\n",
      "48000/48000 [==============================] - 39s 817us/step - loss: 0.0275 - accuracy: 0.9914 - val_loss: 0.0350 - val_accuracy: 0.9902\n",
      "\n",
      "Epoch 00010: val_loss did not improve from 0.03186\n",
      "Epoch 11/30\n",
      "48000/48000 [==============================] - 39s 815us/step - loss: 0.0266 - accuracy: 0.9912 - val_loss: 0.0362 - val_accuracy: 0.9910\n",
      "\n",
      "Epoch 00011: val_loss did not improve from 0.03186\n",
      "Epoch 12/30\n",
      "48000/48000 [==============================] - 39s 813us/step - loss: 0.0223 - accuracy: 0.9926 - val_loss: 0.0367 - val_accuracy: 0.9904\n",
      "\n",
      "Epoch 00012: val_loss did not improve from 0.03186\n",
      "Epoch 13/30\n",
      "48000/48000 [==============================] - 39s 816us/step - loss: 0.0219 - accuracy: 0.9924 - val_loss: 0.0378 - val_accuracy: 0.9906\n",
      "\n",
      "Epoch 00013: val_loss did not improve from 0.03186\n",
      "Epoch 14/30\n",
      "48000/48000 [==============================] - 40s 826us/step - loss: 0.0199 - accuracy: 0.9936 - val_loss: 0.0361 - val_accuracy: 0.9905\n",
      "\n",
      "Epoch 00014: val_loss did not improve from 0.03186\n",
      "Epoch 15/30\n",
      "48000/48000 [==============================] - 39s 816us/step - loss: 0.0192 - accuracy: 0.9938 - val_loss: 0.0402 - val_accuracy: 0.9908\n",
      "\n",
      "Epoch 00015: val_loss did not improve from 0.03186\n",
      "Epoch 16/30\n",
      "48000/48000 [==============================] - 40s 826us/step - loss: 0.0157 - accuracy: 0.9945 - val_loss: 0.0427 - val_accuracy: 0.9914\n",
      "\n",
      "Epoch 00016: val_loss did not improve from 0.03186\n",
      "Epoch 17/30\n",
      "48000/48000 [==============================] - 40s 824us/step - loss: 0.0179 - accuracy: 0.9938 - val_loss: 0.0365 - val_accuracy: 0.9915\n",
      "\n",
      "Epoch 00017: val_loss did not improve from 0.03186\n",
      "Epoch 18/30\n",
      "48000/48000 [==============================] - 39s 819us/step - loss: 0.0175 - accuracy: 0.9944 - val_loss: 0.0404 - val_accuracy: 0.9913\n",
      "\n",
      "Epoch 00018: val_loss did not improve from 0.03186\n"
     ]
    }
   ],
   "source": [
    "# 모델의 실행\n",
    "history = model.fit(X_train, Y_train, validation_split=0.2, epochs=30,\n",
    "                    batch_size=200, #epochs=5, verbose=2, \n",
    "                    callbacks=[early_stopping_callback, checkpointer])"
   ]
  },
  {
   "cell_type": "code",
   "execution_count": 14,
   "metadata": {},
   "outputs": [],
   "source": [
    "from keras.models import load_model\n",
    "del model\n",
    "model = load_model('model/mnist-cnn.hdf5')"
   ]
  },
  {
   "cell_type": "code",
   "execution_count": 10,
   "metadata": {},
   "outputs": [
    {
     "name": "stdout",
     "output_type": "stream",
     "text": [
      "\n",
      " Test Accuracy: 0.9929\n"
     ]
    }
   ],
   "source": [
    "# 테스트 정확도 출력 \n",
    "print(\"\\n Test Accuracy: %.4f\" % \n",
    "      (model.evaluate(X_test, Y_test, verbose=0)[1]))"
   ]
  },
  {
   "cell_type": "code",
   "execution_count": 11,
   "metadata": {},
   "outputs": [],
   "source": [
    "# 검증셋의 오차\n",
    "y_vloss = history.history['val_loss']\n",
    "\n",
    "# 학습셋의 오차\n",
    "y_loss = history.history['loss']"
   ]
  },
  {
   "cell_type": "code",
   "execution_count": 12,
   "metadata": {},
   "outputs": [
    {
     "data": {
      "image/png": "[encoded data removed]",
      "text/plain": [
       "<Figure size 576x432 with 1 Axes>"
      ]
     },
     "metadata": {
      "needs_background": "light"
     },
     "output_type": "display_data"
    }
   ],
   "source": [
    "# 그래프로 표현\n",
    "x_len = np.arange(1, len(y_loss)+1)\n",
    "plt.figure(figsize=(8,6))\n",
    "plt.plot(x_len, y_vloss, marker='.', c=\"red\", label='Validationset_loss')\n",
    "plt.plot(x_len, y_loss, marker='.', c=\"blue\", label='Trainset_loss')\n",
    "\n",
    "# 그래프에 그리드를 주고 레이블을 표시\n",
    "plt.legend(loc='upper right')\n",
    "#plt.axis([0, 20, 0, 0.35])\n",
    "plt.grid()\n",
    "plt.xlabel('epoch')\n",
    "plt.ylabel('loss')\n",
    "plt.show()"
   ]
  },
  {
   "cell_type": "markdown",
   "metadata": {},
   "source": [
    "### 결론: Best Model은 Epoch 8, 정확도는 99.29%"
   ]
  },
  {
   "cell_type": "markdown",
   "metadata": {},
   "source": [
    "### Flask Server 작업용"
   ]
  },
  {
   "cell_type": "code",
   "execution_count": 16,
   "metadata": {},
   "outputs": [
    {
     "data": {
      "image/png": "[encoded data removed]",
      "text/plain": [
       "<Figure size 432x288 with 1 Axes>"
      ]
     },
     "metadata": {
      "needs_background": "light"
     },
     "output_type": "display_data"
    }
   ],
   "source": [
    "(_, _), (X_test, Y_test) = mnist.load_data()\n",
    "plt.imshow(X_test[6255], cmap='Greys')\n",
    "plt.show()"
   ]
  },
  {
   "cell_type": "code",
   "execution_count": 17,
   "metadata": {},
   "outputs": [
    {
     "data": {
      "image/png": "[encoded data removed]",
      "text/plain": [
       "<Figure size 432x288 with 1 Axes>"
      ]
     },
     "metadata": {
      "needs_background": "light"
     },
     "output_type": "display_data"
    }
   ],
   "source": [
    "plt.imshow(X_test[8812], cmap='Greys')\n",
    "plt.show()"
   ]
  },
  {
   "cell_type": "code",
   "execution_count": 19,
   "metadata": {},
   "outputs": [
    {
     "data": {
      "text/plain": [
       "(3, 28, 28, 1)"
      ]
     },
     "execution_count": 19,
     "metadata": {},
     "output_type": "execute_result"
    }
   ],
   "source": [
    "test = np.array([X_test[9408], X_test[5687], X_test[5013]])\n",
    "test = test.reshape(-1, 28, 28, 1).astype('float32') / 255\n",
    "test.shape"
   ]
  },
  {
   "cell_type": "code",
   "execution_count": 20,
   "metadata": {},
   "outputs": [
    {
     "data": {
      "text/plain": [
       "array([9, 3, 1], dtype=int64)"
      ]
     },
     "execution_count": 20,
     "metadata": {},
     "output_type": "execute_result"
    }
   ],
   "source": [
    "model.predict_classes(test)"
   ]
  },
  {
   "cell_type": "code",
   "execution_count": 21,
   "metadata": {},
   "outputs": [
    {
     "data": {
      "text/plain": [
       "(1, 28, 28, 1)"
      ]
     },
     "execution_count": 21,
     "metadata": {},
     "output_type": "execute_result"
    }
   ],
   "source": [
    "test = X_test[5687]\n",
    "test = test.reshape(-1, 28, 28, 1).astype('float32') / 255\n",
    "test.shape"
   ]
  },
  {
   "cell_type": "code",
   "execution_count": 22,
   "metadata": {},
   "outputs": [
    {
     "data": {
      "text/plain": [
       "array([3], dtype=int64)"
      ]
     },
     "execution_count": 22,
     "metadata": {},
     "output_type": "execute_result"
    }
   ],
   "source": [
    "model.predict_classes(test)"
   ]
  },
  {
   "cell_type": "code",
   "execution_count": 23,
   "metadata": {},
   "outputs": [
    {
     "data": {
      "text/plain": [
       "'2.2.4-tf'"
      ]
     },
     "execution_count": 23,
     "metadata": {},
     "output_type": "execute_result"
    }
   ],
   "source": [
    "keras.__version__"
   ]
  },
  {
   "cell_type": "code",
   "execution_count": null,
   "metadata": {},
   "outputs": [],
   "source": []
  }
 ],
 "metadata": {
  "kernelspec": {
   "display_name": "Python 3",
   "language": "python",
   "name": "python3"
  },
  "language_info": {
   "codemirror_mode": {
    "name": "ipython",
    "version": 3
   },
   "file_extension": ".py",
   "mimetype": "text/x-python",
   "name": "python",
   "nbconvert_exporter": "python",
   "pygments_lexer": "ipython3",
   "version": "3.7.7"
  }
 },
 "nbformat": 4,
 "nbformat_minor": 4
}
